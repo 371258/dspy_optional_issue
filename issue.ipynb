{
 "cells": [
  {
   "cell_type": "code",
   "execution_count": 19,
   "metadata": {},
   "outputs": [],
   "source": [
    "import dspy\n",
    "from dspy import TypedPredictor, OutputField, InputField, Signature\n",
    "from pydantic import BaseModel, Field\n",
    "from typing import Optional, Union, Generic, TypeVar\n",
    "from importlib.metadata import version"
   ]
  },
  {
   "cell_type": "code",
   "execution_count": 20,
   "metadata": {},
   "outputs": [
    {
     "data": {
      "text/plain": [
       "'2.4.13'"
      ]
     },
     "execution_count": 20,
     "metadata": {},
     "output_type": "execute_result"
    }
   ],
   "source": [
    "version('dspy-ai')"
   ]
  },
  {
   "cell_type": "code",
   "execution_count": 21,
   "metadata": {},
   "outputs": [
    {
     "data": {
      "text/plain": [
       "'0.1.5'"
      ]
     },
     "execution_count": 21,
     "metadata": {},
     "output_type": "execute_result"
    }
   ],
   "source": [
    "version('dspy')"
   ]
  },
  {
   "cell_type": "code",
   "execution_count": 22,
   "metadata": {},
   "outputs": [
    {
     "data": {
      "text/plain": [
       "'2.8.2'"
      ]
     },
     "execution_count": 22,
     "metadata": {},
     "output_type": "execute_result"
    }
   ],
   "source": [
    "version('pydantic')"
   ]
  },
  {
   "cell_type": "code",
   "execution_count": 23,
   "metadata": {},
   "outputs": [],
   "source": [
    "class Information(BaseModel):\n",
    "    pass\n",
    "\n",
    "T = TypeVar('T', bound=Information)\n",
    "\n",
    "class Answer(BaseModel, Generic[T]):\n",
    "    answer: T = Field()\n",
    "    reasoning: str = Field()\n",
    "    \n",
    "class Person(Information):\n",
    "    name: str = Field()\n",
    "    age: int = Field()    \n",
    "    \n",
    "class Price(Information):\n",
    "    amount: float = Field()\n",
    "    currency: str = Field()\n",
    "    "
   ]
  },
  {
   "cell_type": "markdown",
   "metadata": {},
   "source": [
    "### Good case: answer field in the signature is mandatory"
   ]
  },
  {
   "cell_type": "code",
   "execution_count": 24,
   "metadata": {},
   "outputs": [
    {
     "data": {
      "text/plain": [
       "StringSignature(question -> answer\n",
       "    instructions='Given the fields `question`, produce the fields `answer`.'\n",
       "    question = Field(annotation=str required=True json_schema_extra={'__dspy_field_type': 'input', 'prefix': 'Question:', 'desc': '${question}', 'format': <function TypedPredictor._prepare_signature.<locals>.<lambda> at 0x0000027BA4C149A0>})\n",
       "    answer = Field(annotation=Answer[Person] required=True json_schema_extra={'__dspy_field_type': 'output', 'prefix': 'Answer:', 'desc': '${answer}. Respond with a single JSON object. JSON Schema: {\"$defs\": {\"Person\": {\"properties\": {\"name\": {\"title\": \"Name\", \"type\": \"string\"}, \"age\": {\"title\": \"Age\", \"type\": \"integer\"}}, \"required\": [\"name\", \"age\"], \"title\": \"Person\", \"type\": \"object\"}}, \"properties\": {\"answer\": {\"$ref\": \"#/$defs/Person\"}, \"reasoning\": {\"title\": \"Reasoning\", \"type\": \"string\"}}, \"required\": [\"answer\", \"reasoning\"], \"title\": \"Answer[Person]\", \"type\": \"object\"}', 'format': <function TypedPredictor._prepare_signature.<locals>.<lambda> at 0x0000027B88DF72E0>, 'parser': <function TypedPredictor._prepare_signature.<locals>.<lambda> at 0x0000027BA4C151C0>})\n",
       ")"
      ]
     },
     "execution_count": 24,
     "metadata": {},
     "output_type": "execute_result"
    }
   ],
   "source": [
    "class MySignature_1(Signature, Generic[T]):\n",
    "    question: str = InputField()\n",
    "    answer: Answer[T] = OutputField()\n",
    "\n",
    "module_1 = TypedPredictor(MySignature_1[Person])\n",
    "signature_1 = module_1._prepare_signature()\n",
    "signature_1"
   ]
  },
  {
   "cell_type": "code",
   "execution_count": 25,
   "metadata": {},
   "outputs": [
    {
     "name": "stdout",
     "output_type": "stream",
     "text": [
      "JSON Schema: {\"$defs\": {\"Person\": {\"properties\": {\"name\": {\"title\": \"Name\", \"type\": \"string\"}, \"age\": {\"title\": \"Age\", \"type\": \"integer\"}}, \"required\": [\"name\", \"age\"], \"title\": \"Person\", \"type\": \"object\"}}, \"properties\": {\"answer\": {\"$ref\": \"#/$defs/Person\"}, \"reasoning\": {\"title\": \"Reasoning\", \"type\": \"string\"}}, \"required\": [\"answer\", \"reasoning\"], \"title\": \"Answer[Person]\", \"type\": \"object\"}\n"
     ]
    }
   ],
   "source": [
    "desc_1 = signature_1.fields.get('answer').json_schema_extra.get('desc')\n",
    "i = desc_1.find(\"JSON Schema: \")\n",
    "schema_1 = desc_1[i:]\n",
    "print(schema_1)"
   ]
  },
  {
   "cell_type": "markdown",
   "metadata": {},
   "source": [
    "### If the LM returns a JSON with this schema, it can be parsed to our Pydantic class \"Answer\""
   ]
  },
  {
   "cell_type": "code",
   "execution_count": 26,
   "metadata": {},
   "outputs": [
    {
     "data": {
      "text/plain": [
       "Answer[Person](answer=Person(name='Alice Johnson', age=28), reasoning='Alice is highly recommended due to her strong analytical skills and extensive experience in the industry.')"
      ]
     },
     "execution_count": 26,
     "metadata": {},
     "output_type": "execute_result"
    }
   ],
   "source": [
    "test_1 = '''{\n",
    "  \"answer\": {\n",
    "    \"name\": \"Alice Johnson\",\n",
    "    \"age\": 28\n",
    "  },\n",
    "  \"reasoning\": \"Alice is highly recommended due to her strong analytical skills and extensive experience in the industry.\"\n",
    "}'''\n",
    "\n",
    "\n",
    "field = signature_1.fields.get('answer')\n",
    "parser = field.json_schema_extra.get(\"parser\", lambda x: x)\n",
    "parser(test_1)"
   ]
  },
  {
   "cell_type": "markdown",
   "metadata": {},
   "source": [
    "## Bad case: answer field in the signature is Optional"
   ]
  },
  {
   "cell_type": "code",
   "execution_count": 27,
   "metadata": {},
   "outputs": [
    {
     "data": {
      "text/plain": [
       "StringSignature(question -> answer\n",
       "    instructions='Given the fields `question`, produce the fields `answer`.'\n",
       "    question = Field(annotation=str required=True json_schema_extra={'__dspy_field_type': 'input', 'prefix': 'Question:', 'desc': '${question}', 'format': <function TypedPredictor._prepare_signature.<locals>.<lambda> at 0x0000027BA4C17D80>})\n",
       "    answer = Field(annotation=Output required=True json_schema_extra={'__dspy_field_type': 'output', 'prefix': 'Answer:', 'desc': '${answer}. Respond with a single JSON object. JSON Schema: {\"$defs\": {\"Answer_Person_\": {\"properties\": {\"answer\": {\"$ref\": \"#/$defs/Person\"}, \"reasoning\": {\"title\": \"Reasoning\", \"type\": \"string\"}}, \"required\": [\"answer\", \"reasoning\"], \"title\": \"Answer[Person]\", \"type\": \"object\"}, \"Person\": {\"properties\": {\"name\": {\"title\": \"Name\", \"type\": \"string\"}, \"age\": {\"title\": \"Age\", \"type\": \"integer\"}}, \"required\": [\"name\", \"age\"], \"title\": \"Person\", \"type\": \"object\"}}, \"properties\": {\"value\": {\"anyOf\": [{\"$ref\": \"#/$defs/Answer_Person_\"}, {\"type\": \"null\"}]}}, \"required\": [\"value\"], \"title\": \"Output\", \"type\": \"object\"}', 'format': <function TypedPredictor._prepare_signature.<locals>.<lambda> at 0x0000027BA4C14FE0>, 'parser': <function TypedPredictor._prepare_signature.<locals>.<lambda> at 0x0000027BA4C17B00>})\n",
       ")"
      ]
     },
     "execution_count": 27,
     "metadata": {},
     "output_type": "execute_result"
    }
   ],
   "source": [
    "class MySignature_2(Signature, Generic[T]):\n",
    "    question: str = InputField()\n",
    "    answer: Optional[Answer[T]] = OutputField()\n",
    "\n",
    "module_2 = TypedPredictor(MySignature_2[Person])\n",
    "signature_2 = module_2._prepare_signature()\n",
    "signature_2"
   ]
  },
  {
   "cell_type": "markdown",
   "metadata": {},
   "source": [
    "### In the JSON Schema we see that property \"answer\" is replaced by property \"value\". "
   ]
  },
  {
   "cell_type": "code",
   "execution_count": 28,
   "metadata": {},
   "outputs": [
    {
     "name": "stdout",
     "output_type": "stream",
     "text": [
      "JSON Schema: {\"$defs\": {\"Answer_Person_\": {\"properties\": {\"answer\": {\"$ref\": \"#/$defs/Person\"}, \"reasoning\": {\"title\": \"Reasoning\", \"type\": \"string\"}}, \"required\": [\"answer\", \"reasoning\"], \"title\": \"Answer[Person]\", \"type\": \"object\"}, \"Person\": {\"properties\": {\"name\": {\"title\": \"Name\", \"type\": \"string\"}, \"age\": {\"title\": \"Age\", \"type\": \"integer\"}}, \"required\": [\"name\", \"age\"], \"title\": \"Person\", \"type\": \"object\"}}, \"properties\": {\"value\": {\"anyOf\": [{\"$ref\": \"#/$defs/Answer_Person_\"}, {\"type\": \"null\"}]}}, \"required\": [\"value\"], \"title\": \"Output\", \"type\": \"object\"}\n"
     ]
    }
   ],
   "source": [
    "desc_2 = signature_2.fields.get('answer').json_schema_extra.get('desc')\n",
    "i = desc_2.find(\"JSON Schema: \")\n",
    "schema_2 = desc_2[i:]\n",
    "print(schema_2)"
   ]
  },
  {
   "cell_type": "markdown",
   "metadata": {},
   "source": [
    "### If the LM returns a JSON with this schema, we get a Validation error when parsing parsing to our Pydantic class \"Answer\""
   ]
  },
  {
   "cell_type": "code",
   "execution_count": 29,
   "metadata": {},
   "outputs": [
    {
     "ename": "ValidationError",
     "evalue": "1 validation error for Output\nvalue\n  Field required [type=missing, input_value={'answer': {'name': 'John... extensive experience.'}, input_type=dict]\n    For further information visit https://errors.pydantic.dev/2.8/v/missing",
     "output_type": "error",
     "traceback": [
      "\u001b[1;31m---------------------------------------------------------------------------\u001b[0m",
      "\u001b[1;31mValidationError\u001b[0m                           Traceback (most recent call last)",
      "Cell \u001b[1;32mIn[29], line 14\u001b[0m\n\u001b[0;32m     12\u001b[0m field \u001b[38;5;241m=\u001b[39m signature_2\u001b[38;5;241m.\u001b[39mfields\u001b[38;5;241m.\u001b[39mget(\u001b[38;5;124m'\u001b[39m\u001b[38;5;124manswer\u001b[39m\u001b[38;5;124m'\u001b[39m)\n\u001b[0;32m     13\u001b[0m parser \u001b[38;5;241m=\u001b[39m field\u001b[38;5;241m.\u001b[39mjson_schema_extra\u001b[38;5;241m.\u001b[39mget(\u001b[38;5;124m\"\u001b[39m\u001b[38;5;124mparser\u001b[39m\u001b[38;5;124m\"\u001b[39m, \u001b[38;5;28;01mlambda\u001b[39;00m x: x)\n\u001b[1;32m---> 14\u001b[0m \u001b[43mparser\u001b[49m\u001b[43m(\u001b[49m\u001b[43mtest_2\u001b[49m\u001b[43m)\u001b[49m\n",
      "File \u001b[1;32mc:\\dev\\30_AI_Pilot\\analysis\\.venv\\Lib\\site-packages\\dspy\\functional\\functional.py:262\u001b[0m, in \u001b[0;36mTypedPredictor._prepare_signature.<locals>.<lambda>\u001b[1;34m(x, from_json)\u001b[0m\n\u001b[0;32m    255\u001b[0m             to_json \u001b[38;5;241m=\u001b[39m \u001b[38;5;28;01mlambda\u001b[39;00m x, inner\u001b[38;5;241m=\u001b[39mto_json: \u001b[38;5;124m\"\u001b[39m\u001b[38;5;124m```json\u001b[39m\u001b[38;5;130;01m\\n\u001b[39;00m\u001b[38;5;124m\"\u001b[39m \u001b[38;5;241m+\u001b[39m inner(x) \u001b[38;5;241m+\u001b[39m \u001b[38;5;124m\"\u001b[39m\u001b[38;5;130;01m\\n\u001b[39;00m\u001b[38;5;124m```\u001b[39m\u001b[38;5;130;01m\\n\u001b[39;00m\u001b[38;5;124m\"\u001b[39m\n\u001b[0;32m    256\u001b[0m             schema \u001b[38;5;241m=\u001b[39m \u001b[38;5;124m\"\u001b[39m\u001b[38;5;124m```json\u001b[39m\u001b[38;5;130;01m\\n\u001b[39;00m\u001b[38;5;124m\"\u001b[39m \u001b[38;5;241m+\u001b[39m schema \u001b[38;5;241m+\u001b[39m \u001b[38;5;124m\"\u001b[39m\u001b[38;5;130;01m\\n\u001b[39;00m\u001b[38;5;124m```\u001b[39m\u001b[38;5;124m\"\u001b[39m\n\u001b[0;32m    257\u001b[0m         signature \u001b[38;5;241m=\u001b[39m signature\u001b[38;5;241m.\u001b[39mwith_updated_fields(\n\u001b[0;32m    258\u001b[0m             name,\n\u001b[0;32m    259\u001b[0m             desc\u001b[38;5;241m=\u001b[39mfield\u001b[38;5;241m.\u001b[39mjson_schema_extra\u001b[38;5;241m.\u001b[39mget(\u001b[38;5;124m\"\u001b[39m\u001b[38;5;124mdesc\u001b[39m\u001b[38;5;124m\"\u001b[39m, \u001b[38;5;124m\"\u001b[39m\u001b[38;5;124m\"\u001b[39m)\n\u001b[0;32m    260\u001b[0m             \u001b[38;5;241m+\u001b[39m (\u001b[38;5;124m\"\u001b[39m\u001b[38;5;124m. Respond with a single JSON object. JSON Schema: \u001b[39m\u001b[38;5;124m\"\u001b[39m \u001b[38;5;241m+\u001b[39m schema),\n\u001b[0;32m    261\u001b[0m             \u001b[38;5;28mformat\u001b[39m\u001b[38;5;241m=\u001b[39m\u001b[38;5;28;01mlambda\u001b[39;00m x, to_json\u001b[38;5;241m=\u001b[39mto_json: (x \u001b[38;5;28;01mif\u001b[39;00m \u001b[38;5;28misinstance\u001b[39m(x, \u001b[38;5;28mstr\u001b[39m) \u001b[38;5;28;01melse\u001b[39;00m to_json(x)),\n\u001b[1;32m--> 262\u001b[0m             parser\u001b[38;5;241m=\u001b[39m\u001b[38;5;28;01mlambda\u001b[39;00m x, from_json\u001b[38;5;241m=\u001b[39mfrom_json: \u001b[43mfrom_json\u001b[49m\u001b[43m(\u001b[49m\u001b[43m_unwrap_json\u001b[49m\u001b[43m(\u001b[49m\u001b[43mx\u001b[49m\u001b[43m,\u001b[49m\u001b[43m \u001b[49m\u001b[43mfrom_json\u001b[49m\u001b[43m)\u001b[49m\u001b[43m)\u001b[49m,\n\u001b[0;32m    263\u001b[0m             type_\u001b[38;5;241m=\u001b[39mtype_,\n\u001b[0;32m    264\u001b[0m         )\n\u001b[0;32m    265\u001b[0m \u001b[38;5;28;01melse\u001b[39;00m:  \u001b[38;5;66;03m# If input field\u001b[39;00m\n\u001b[0;32m    266\u001b[0m     is_json \u001b[38;5;241m=\u001b[39m \u001b[38;5;28;01mFalse\u001b[39;00m\n",
      "File \u001b[1;32mc:\\dev\\30_AI_Pilot\\analysis\\.venv\\Lib\\site-packages\\dspy\\functional\\functional.py:248\u001b[0m, in \u001b[0;36mTypedPredictor._prepare_signature.<locals>.<lambda>\u001b[1;34m(x, type_)\u001b[0m\n\u001b[0;32m    246\u001b[0m     type_ \u001b[38;5;241m=\u001b[39m pydantic\u001b[38;5;241m.\u001b[39mcreate_model(\u001b[38;5;124m\"\u001b[39m\u001b[38;5;124mOutput\u001b[39m\u001b[38;5;124m\"\u001b[39m, value\u001b[38;5;241m=\u001b[39m(type_, \u001b[38;5;241m.\u001b[39m\u001b[38;5;241m.\u001b[39m\u001b[38;5;241m.\u001b[39m), __base__\u001b[38;5;241m=\u001b[39mpydantic\u001b[38;5;241m.\u001b[39mBaseModel)\n\u001b[0;32m    247\u001b[0m     to_json \u001b[38;5;241m=\u001b[39m \u001b[38;5;28;01mlambda\u001b[39;00m x, type_\u001b[38;5;241m=\u001b[39mtype_: type_(value\u001b[38;5;241m=\u001b[39mx)\u001b[38;5;241m.\u001b[39mmodel_dump_json()\n\u001b[1;32m--> 248\u001b[0m     from_json \u001b[38;5;241m=\u001b[39m \u001b[38;5;28;01mlambda\u001b[39;00m x, type_\u001b[38;5;241m=\u001b[39mtype_: \u001b[43mtype_\u001b[49m\u001b[38;5;241;43m.\u001b[39;49m\u001b[43mmodel_validate_json\u001b[49m\u001b[43m(\u001b[49m\u001b[43mx\u001b[49m\u001b[43m)\u001b[49m\u001b[38;5;241m.\u001b[39mvalue\n\u001b[0;32m    249\u001b[0m     schema \u001b[38;5;241m=\u001b[39m json\u001b[38;5;241m.\u001b[39mdumps(type_\u001b[38;5;241m.\u001b[39mmodel_json_schema())\n\u001b[0;32m    250\u001b[0m \u001b[38;5;28;01melse\u001b[39;00m:\n",
      "File \u001b[1;32mc:\\dev\\30_AI_Pilot\\analysis\\.venv\\Lib\\site-packages\\pydantic\\main.py:597\u001b[0m, in \u001b[0;36mBaseModel.model_validate_json\u001b[1;34m(cls, json_data, strict, context)\u001b[0m\n\u001b[0;32m    595\u001b[0m \u001b[38;5;66;03m# `__tracebackhide__` tells pytest and some other tools to omit this function from tracebacks\u001b[39;00m\n\u001b[0;32m    596\u001b[0m __tracebackhide__ \u001b[38;5;241m=\u001b[39m \u001b[38;5;28;01mTrue\u001b[39;00m\n\u001b[1;32m--> 597\u001b[0m \u001b[38;5;28;01mreturn\u001b[39;00m \u001b[38;5;28;43mcls\u001b[39;49m\u001b[38;5;241;43m.\u001b[39;49m\u001b[43m__pydantic_validator__\u001b[49m\u001b[38;5;241;43m.\u001b[39;49m\u001b[43mvalidate_json\u001b[49m\u001b[43m(\u001b[49m\u001b[43mjson_data\u001b[49m\u001b[43m,\u001b[49m\u001b[43m \u001b[49m\u001b[43mstrict\u001b[49m\u001b[38;5;241;43m=\u001b[39;49m\u001b[43mstrict\u001b[49m\u001b[43m,\u001b[49m\u001b[43m \u001b[49m\u001b[43mcontext\u001b[49m\u001b[38;5;241;43m=\u001b[39;49m\u001b[43mcontext\u001b[49m\u001b[43m)\u001b[49m\n",
      "\u001b[1;31mValidationError\u001b[0m: 1 validation error for Output\nvalue\n  Field required [type=missing, input_value={'answer': {'name': 'John... extensive experience.'}, input_type=dict]\n    For further information visit https://errors.pydantic.dev/2.8/v/missing"
     ]
    }
   ],
   "source": [
    "test_2 = '''{\n",
    "  \"value\": {\n",
    "    \"answer\": {\n",
    "      \"name\": \"John Doe\",\n",
    "      \"age\": 30\n",
    "    },\n",
    "    \"reasoning\": \"John is the best candidate due to his extensive experience.\"\n",
    "  }\n",
    "}'''\n",
    "\n",
    "\n",
    "field = signature_2.fields.get('answer')\n",
    "parser = field.json_schema_extra.get(\"parser\", lambda x: x)\n",
    "parser(test_2)"
   ]
  },
  {
   "cell_type": "code",
   "execution_count": null,
   "metadata": {},
   "outputs": [],
   "source": []
  }
 ],
 "metadata": {
  "kernelspec": {
   "display_name": ".venv",
   "language": "python",
   "name": "python3"
  },
  "language_info": {
   "codemirror_mode": {
    "name": "ipython",
    "version": 3
   },
   "file_extension": ".py",
   "mimetype": "text/x-python",
   "name": "python",
   "nbconvert_exporter": "python",
   "pygments_lexer": "ipython3",
   "version": "3.12.4"
  }
 },
 "nbformat": 4,
 "nbformat_minor": 2
}
